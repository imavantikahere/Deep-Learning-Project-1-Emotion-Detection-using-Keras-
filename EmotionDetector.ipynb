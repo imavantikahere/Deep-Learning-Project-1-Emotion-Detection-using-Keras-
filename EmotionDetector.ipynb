{
 "cells": [
  {
   "cell_type": "code",
   "execution_count": 512,
   "metadata": {},
   "outputs": [],
   "source": [
    "import keras\n",
    "import numpy as np\n",
    "from keras.models import Sequential\n",
    "from keras.layers import Dense\n",
    "from keras.layers.convolutional import Conv2D\n",
    "from keras.layers.convolutional import MaxPooling2D\n",
    "from keras.layers.convolutional import AveragePooling2D\n",
    "from keras.layers import Flatten\n",
    "from keras.utils import to_categorical\n",
    "import matplotlib.pyplot as plt\n",
    "from keras.layers import Dropout"
   ]
  },
  {
   "cell_type": "code",
   "execution_count": 513,
   "metadata": {},
   "outputs": [],
   "source": [
    "f= open('/Users/avantika/Desktop/fer2013 2.csv') "
   ]
  },
  {
   "cell_type": "code",
   "execution_count": 514,
   "metadata": {},
   "outputs": [],
   "source": [
    "#p=f.readline() #reads first line/ the headers"
   ]
  },
  {
   "cell_type": "code",
   "execution_count": 515,
   "metadata": {},
   "outputs": [],
   "source": [
    "#print(p) #labels/columns, just to see the column names"
   ]
  },
  {
   "cell_type": "code",
   "execution_count": 516,
   "metadata": {},
   "outputs": [],
   "source": [
    "data= f.readlines() #reads all the lines in the csv file\n",
    "data_lines= np.array(data) #makes a numpy array of those lines"
   ]
  },
  {
   "cell_type": "code",
   "execution_count": 517,
   "metadata": {},
   "outputs": [],
   "source": [
    "#Pre-processing the data\n",
    "(x_train,y_train)= ([],[]) \n",
    "(x_test, y_test)= ([],[])\n",
    "for i in range(1,data_lines.size):\n",
    "    emotion, image, usage= data_lines[i].split(\",\") #extracting info line by line\n",
    "    pixels= image.split(' ') \n",
    "    pixels= np.array(pixels,'float32');\n",
    "    emotion = to_categorical(emotion, 7)\n",
    "    if(usage =='Training\\n'): #Training set \n",
    "        x_train.append(pixels)\n",
    "        y_train.append((emotion))\n",
    "    elif (usage=='PublicTest\\n'): #Test set\n",
    "        x_test.append(pixels)\n",
    "        y_test.append((emotion))\n"
   ]
  },
  {
   "cell_type": "code",
   "execution_count": 518,
   "metadata": {},
   "outputs": [],
   "source": [
    "#Building CNN model with 3 convolution layers\n",
    "model= Sequential()\n",
    "\n",
    "#Layer 1 of convolution + pooling\n",
    "model.add(Conv2D(128,(5,5), activation='relu', input_shape= (48,48,1)))\n",
    "model.add(MaxPooling2D(pool_size=(5,5), strides=(2,2)))\n",
    "\n",
    "#Layer 2 of convolution + pooling\n",
    "model.add(Conv2D(64,(3,3), activation='relu'))\n",
    "model.add(MaxPooling2D(pool_size=(3,3), strides=(2,2)))\n",
    "\n",
    "#Layer 3 of convolution + pooling\n",
    "model.add(Conv2D(32,(2,2), activation='relu'))\n",
    "model.add(MaxPooling2D(pool_size=(3,3), strides=(3,3)))\n",
    "\n",
    "#Fully connected layer\n",
    "model.add(Flatten())\n",
    "model.add(Dense(1024,activation='relu'))\n",
    "model.add(Dropout(0.2))\n",
    "\n",
    "#Softmax function to generate probablilities of each category of output possible\n",
    "model.add(Dense(7, activation='softmax'))"
   ]
  },
  {
   "cell_type": "code",
   "execution_count": 519,
   "metadata": {},
   "outputs": [],
   "source": [
    "x_train=np.array(x_train,'float32') #converting input training images to numpy array\n",
    "x_test=np.array(x_test,'float32')#converting input testing images to numpy array\n",
    "x_train= x_train/255\n",
    "x_test=x_test/255\n",
    "x_train = x_train.reshape(x_train.shape[0], 48, 48, 1).astype('float32')#converting the image 1D array to 2D 48x48 array of pixels\n",
    "x_test = x_test.reshape(x_test.shape[0], 48, 48, 1).astype('float32')#converting the image 1D array to 2D 48x48 array of pixels"
   ]
  },
  {
   "cell_type": "code",
   "execution_count": 520,
   "metadata": {},
   "outputs": [],
   "source": [
    "y_train=np.array(y_train,'float32') #converting output training labels to numpy array\n",
    "y_test=np.array(y_test,'float32')#converting output testing labels to numpy array"
   ]
  },
  {
   "cell_type": "code",
   "execution_count": 521,
   "metadata": {},
   "outputs": [
    {
     "name": "stdout",
     "output_type": "stream",
     "text": [
      "Epoch 1/5\n",
      "200/200 [==============================] - 291s 1s/step - loss: 1.7992 - accuracy: 0.2541\n",
      "Epoch 2/5\n",
      "200/200 [==============================] - 320s 2s/step - loss: 1.7463 - accuracy: 0.2851\n",
      "Epoch 3/5\n",
      "200/200 [==============================] - 341s 2s/step - loss: 1.6623 - accuracy: 0.3410\n",
      "Epoch 4/5\n",
      "200/200 [==============================] - 357s 2s/step - loss: 1.5798 - accuracy: 0.3821\n",
      "Epoch 5/5\n",
      "200/200 [==============================] - 426s 2s/step - loss: 1.5081 - accuracy: 0.4178\n"
     ]
    },
    {
     "data": {
      "text/plain": [
       "<keras.callbacks.callbacks.History at 0x6454f9750>"
      ]
     },
     "execution_count": 521,
     "metadata": {},
     "output_type": "execute_result"
    }
   ],
   "source": [
    "from tensorflow.keras.preprocessing.image import ImageDataGenerator\n",
    "\n",
    "gen = ImageDataGenerator() #uses random training sets instead of all training sets to save time\n",
    "\n",
    "train_generator = gen.flow(x_train, y_train, batch_size=200) #bigger batch size->more accuracy\n",
    " \n",
    "model.compile(optimizer='adam', loss='categorical_crossentropy',  metrics=['accuracy'])\n",
    "#model.fit_generator(x_train, y_train, epochs=epochs) \n",
    "model.fit_generator(train_generator, steps_per_epoch=200, epochs=5)"
   ]
  },
  {
   "cell_type": "code",
   "execution_count": 522,
   "metadata": {},
   "outputs": [],
   "source": [
    "train_score = model.evaluate(x_train, y_train, verbose=0)\n"
   ]
  },
  {
   "cell_type": "code",
   "execution_count": 567,
   "metadata": {},
   "outputs": [
    {
     "name": "stdout",
     "output_type": "stream",
     "text": [
      "Train loss: 1.4873935988448566\n",
      "Train accuracy: 43.007418513298035\n"
     ]
    }
   ],
   "source": [
    "print('Train loss:', train_score[0])\n",
    "print('Train accuracy:', 100*train_score[1])"
   ]
  },
  {
   "cell_type": "code",
   "execution_count": 524,
   "metadata": {},
   "outputs": [],
   "source": [
    "test_score = model.evaluate(x_test, y_test, verbose=0)"
   ]
  },
  {
   "cell_type": "code",
   "execution_count": 525,
   "metadata": {},
   "outputs": [
    {
     "name": "stdout",
     "output_type": "stream",
     "text": [
      "Test loss: 1.5041303004883697\n",
      "Test accuracy: 42.3237681388855\n"
     ]
    }
   ],
   "source": [
    "print('Test loss:', test_score[0])\n",
    "print('Test accuracy:', 100*test_score[1])"
   ]
  },
  {
   "cell_type": "code",
   "execution_count": 565,
   "metadata": {},
   "outputs": [
    {
     "name": "stdout",
     "output_type": "stream",
     "text": [
      "Emotion sensed for the face:  happy\n"
     ]
    }
   ],
   "source": [
    "from keras.preprocessing.image import image\n",
    "\n",
    "#load the image from its source path\n",
    "input_image = image.load_img(\"/Users/avantika/Desktop/happy.png\", grayscale=True, target_size=(48, 48))\n",
    "\n",
    "#convert image to numpy array and expand its dimensions\n",
    "x = image.img_to_array(input_image)\n",
    "x = np.expand_dims(x, axis = 0)\n",
    " \n",
    "#Normalize image array\n",
    "x /= 255\n",
    "\n",
    "#Use CNN model to preidct emotion for image input\n",
    "custom = model.predict(x)\n",
    "\n",
    "#Printing the output in readable format\n",
    "\n",
    "objects = ('angry', 'disgusted', 'scared', 'happy', 'sad', 'surprised', 'neutral')\n",
    "max_y= np.argmax(custom)\n",
    "print(\"Emotion sensed for the face: \", objects[max_y])\n",
    "\n"
   ]
  },
  {
   "cell_type": "code",
   "execution_count": 566,
   "metadata": {},
   "outputs": [
    {
     "data": {
      "image/png": "[encoded data removed]",
      "text/plain": [
       "<Figure size 432x288 with 1 Axes>"
      ]
     },
     "metadata": {
      "needs_background": "light"
     },
     "output_type": "display_data"
    },
    {
     "data": {
      "image/png": "[encoded data removed]",
      "text/plain": [
       "<Figure size 432x288 with 1 Axes>"
      ]
     },
     "metadata": {
      "needs_background": "light"
     },
     "output_type": "display_data"
    }
   ],
   "source": [
    "#Plotting the emotion profile for detailed results\n",
    "range_y= np.arange(len(objects))\n",
    "fig = plt.figure()\n",
    "ax = fig.add_axes([0,0,1,1])\n",
    "ax.bar(range_y, custom[0], align='center', alpha=0.5)\n",
    "plt.xticks(range_y, objects)\n",
    "plt.ylabel('Probability')\n",
    "plt.title('Emotion Chart')\n",
    "plt.show()\n",
    "\n",
    "#reconverting input to numpy array to display it using imshow()\n",
    "x = np.array(x, 'float32')\n",
    "x = x.reshape([48, 48]);\n",
    " \n",
    "plt.gray()\n",
    "plt.imshow(x)\n",
    "plt.show()"
   ]
  }
 ],
 "metadata": {
  "kernelspec": {
   "display_name": "Python 3",
   "language": "python",
   "name": "python3"
  },
  "language_info": {
   "codemirror_mode": {
    "name": "ipython",
    "version": 3
   },
   "file_extension": ".py",
   "mimetype": "text/x-python",
   "name": "python",
   "nbconvert_exporter": "python",
   "pygments_lexer": "ipython3",
   "version": "3.7.6"
  }
 },
 "nbformat": 4,
 "nbformat_minor": 4
}
