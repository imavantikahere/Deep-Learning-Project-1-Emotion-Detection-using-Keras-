{
 "cells": [
  {
   "cell_type": "code",
   "execution_count": 579,
   "metadata": {},
   "outputs": [],
   "source": [
    "import keras\n",
    "import numpy as np\n",
    "from keras.models import Sequential\n",
    "from keras.layers import Dense\n",
    "from keras.layers.convolutional import Conv2D\n",
    "from keras.layers.convolutional import MaxPooling2D\n",
    "from keras.layers.convolutional import AveragePooling2D\n",
    "from keras.layers import Flatten\n",
    "from keras.utils import to_categorical\n",
    "import matplotlib.pyplot as plt\n",
    "from keras.layers import Dropout"
   ]
  },
  {
   "cell_type": "code",
   "execution_count": 580,
   "metadata": {},
   "outputs": [],
   "source": [
    "f= open('/Users/avantika/Desktop/fer2013 2.csv') "
   ]
  },
  {
   "cell_type": "code",
   "execution_count": 581,
   "metadata": {},
   "outputs": [],
   "source": [
    "#p=f.readline() #reads first line/ the headers"
   ]
  },
  {
   "cell_type": "code",
   "execution_count": 582,
   "metadata": {},
   "outputs": [],
   "source": [
    "#print(p) #labels/columns, just to see the column names"
   ]
  },
  {
   "cell_type": "code",
   "execution_count": 583,
   "metadata": {},
   "outputs": [],
   "source": [
    "data= f.readlines() #reads all the lines in the csv file\n",
    "data_lines= np.array(data) #makes a numpy array of those lines"
   ]
  },
  {
   "cell_type": "code",
   "execution_count": 584,
   "metadata": {},
   "outputs": [],
   "source": [
    "#Pre-processing the data\n",
    "(x_train,y_train)= ([],[]) \n",
    "(x_test, y_test)= ([],[])\n",
    "for i in range(1,data_lines.size):\n",
    "    emotion, image, usage= data_lines[i].split(\",\") #extracting info line by line\n",
    "    pixels= image.split(' ') \n",
    "    pixels= np.array(pixels,'float32');\n",
    "    emotion = to_categorical(emotion, 7)\n",
    "    if(usage =='Training\\n'): #Training set \n",
    "        x_train.append(pixels)\n",
    "        y_train.append((emotion))\n",
    "    elif (usage=='PublicTest\\n'): #Test set\n",
    "        x_test.append(pixels)\n",
    "        y_test.append((emotion))\n"
   ]
  },
  {
   "cell_type": "code",
   "execution_count": 585,
   "metadata": {},
   "outputs": [],
   "source": [
    "#Building CNN model with 3 convolution layers\n",
    "model= Sequential()\n",
    "\n",
    "#Layer 1 of convolution + pooling\n",
    "model.add(Conv2D(128,(5,5), activation='relu', input_shape= (48,48,1)))\n",
    "model.add(MaxPooling2D(pool_size=(5,5), strides=(2,2)))\n",
    "\n",
    "#Layer 2 of convolution + pooling\n",
    "model.add(Conv2D(64,(3,3), activation='relu'))\n",
    "model.add(MaxPooling2D(pool_size=(3,3), strides=(2,2)))\n",
    "\n",
    "#Layer 3 of convolution + pooling\n",
    "model.add(Conv2D(32,(2,2), activation='relu'))\n",
    "model.add(MaxPooling2D(pool_size=(3,3), strides=(3,3)))\n",
    "\n",
    "#Fully connected layer\n",
    "model.add(Flatten())\n",
    "model.add(Dense(1024,activation='relu'))\n",
    "model.add(Dropout(0.2))\n",
    "\n",
    "#Softmax function to generate probablilities of each category of output possible\n",
    "model.add(Dense(7, activation='softmax'))"
   ]
  },
  {
   "cell_type": "code",
   "execution_count": 586,
   "metadata": {},
   "outputs": [],
   "source": [
    "x_train=np.array(x_train,'float32') #converting input training images to numpy array\n",
    "x_test=np.array(x_test,'float32')#converting input testing images to numpy array\n",
    "x_train= x_train/255\n",
    "x_test=x_test/255\n",
    "x_train = x_train.reshape(x_train.shape[0], 48, 48, 1).astype('float32')#converting the image 1D array to 2D 48x48 array of pixels\n",
    "x_test = x_test.reshape(x_test.shape[0], 48, 48, 1).astype('float32')#converting the image 1D array to 2D 48x48 array of pixels"
   ]
  },
  {
   "cell_type": "code",
   "execution_count": 587,
   "metadata": {},
   "outputs": [],
   "source": [
    "y_train=np.array(y_train,'float32') #converting output training labels to numpy array\n",
    "y_test=np.array(y_test,'float32')#converting output testing labels to numpy array"
   ]
  },
  {
   "cell_type": "code",
   "execution_count": 588,
   "metadata": {},
   "outputs": [
    {
     "name": "stdout",
     "output_type": "stream",
     "text": [
      "Epoch 1/30\n",
      "125/125 [==============================] - 93s 742ms/step - loss: 1.8201 - accuracy: 0.2515\n",
      "Epoch 2/30\n",
      "125/125 [==============================] - 97s 775ms/step - loss: 1.7943 - accuracy: 0.2525\n",
      "Epoch 3/30\n",
      "125/125 [==============================] - 92s 739ms/step - loss: 1.7138 - accuracy: 0.3007\n",
      "Epoch 4/30\n",
      "125/125 [==============================] - 93s 746ms/step - loss: 1.5939 - accuracy: 0.3642\n",
      "Epoch 5/30\n",
      "125/125 [==============================] - 96s 765ms/step - loss: 1.5285 - accuracy: 0.4054\n",
      "Epoch 6/30\n",
      "125/125 [==============================] - 100s 804ms/step - loss: 1.4801 - accuracy: 0.4282\n",
      "Epoch 7/30\n",
      "125/125 [==============================] - 93s 741ms/step - loss: 1.4353 - accuracy: 0.4482\n",
      "Epoch 8/30\n",
      "125/125 [==============================] - 94s 753ms/step - loss: 1.4028 - accuracy: 0.4625\n",
      "Epoch 9/30\n",
      "125/125 [==============================] - 100s 797ms/step - loss: 1.3757 - accuracy: 0.4692\n",
      "Epoch 10/30\n",
      "125/125 [==============================] - 95s 756ms/step - loss: 1.3579 - accuracy: 0.4814\n",
      "Epoch 11/30\n",
      "125/125 [==============================] - 95s 761ms/step - loss: 1.3344 - accuracy: 0.4844\n",
      "Epoch 12/30\n",
      "125/125 [==============================] - 95s 761ms/step - loss: 1.3211 - accuracy: 0.4963\n",
      "Epoch 13/30\n",
      "125/125 [==============================] - 99s 792ms/step - loss: 1.3121 - accuracy: 0.4981\n",
      "Epoch 14/30\n",
      "125/125 [==============================] - 100s 803ms/step - loss: 1.2800 - accuracy: 0.5098\n",
      "Epoch 15/30\n",
      "125/125 [==============================] - 102s 819ms/step - loss: 1.2677 - accuracy: 0.5178\n",
      "Epoch 16/30\n",
      "125/125 [==============================] - 108s 861ms/step - loss: 1.2584 - accuracy: 0.5216\n",
      "Epoch 17/30\n",
      "125/125 [==============================] - 108s 865ms/step - loss: 1.2325 - accuracy: 0.5286\n",
      "Epoch 18/30\n",
      "125/125 [==============================] - 115s 922ms/step - loss: 1.2438 - accuracy: 0.5257\n",
      "Epoch 19/30\n",
      "125/125 [==============================] - 110s 878ms/step - loss: 1.2110 - accuracy: 0.5416\n",
      "Epoch 20/30\n",
      "125/125 [==============================] - 110s 882ms/step - loss: 1.2314 - accuracy: 0.5311\n",
      "Epoch 21/30\n",
      "125/125 [==============================] - 112s 894ms/step - loss: 1.1932 - accuracy: 0.5510\n",
      "Epoch 22/30\n",
      "125/125 [==============================] - 114s 911ms/step - loss: 1.1942 - accuracy: 0.5458\n",
      "Epoch 23/30\n",
      "125/125 [==============================] - 116s 926ms/step - loss: 1.1677 - accuracy: 0.5589\n",
      "Epoch 24/30\n",
      "125/125 [==============================] - 116s 928ms/step - loss: 1.1667 - accuracy: 0.5621\n",
      "Epoch 25/30\n",
      "125/125 [==============================] - 117s 935ms/step - loss: 1.1512 - accuracy: 0.5720\n",
      "Epoch 26/30\n",
      "125/125 [==============================] - 117s 938ms/step - loss: 1.1537 - accuracy: 0.5630\n",
      "Epoch 27/30\n",
      "125/125 [==============================] - 122s 977ms/step - loss: 1.1398 - accuracy: 0.5714\n",
      "Epoch 28/30\n",
      "125/125 [==============================] - 126s 1s/step - loss: 1.1251 - accuracy: 0.5812\n",
      "Epoch 29/30\n",
      "125/125 [==============================] - 125s 1s/step - loss: 1.1217 - accuracy: 0.5778\n",
      "Epoch 30/30\n",
      "125/125 [==============================] - 122s 974ms/step - loss: 1.1113 - accuracy: 0.5793\n"
     ]
    },
    {
     "data": {
      "text/plain": [
       "<keras.callbacks.callbacks.History at 0x64eea3090>"
      ]
     },
     "execution_count": 588,
     "metadata": {},
     "output_type": "execute_result"
    }
   ],
   "source": [
    "from tensorflow.keras.preprocessing.image import ImageDataGenerator\n",
    "\n",
    "gen = ImageDataGenerator() #uses random training sets instead of all training sets to save time\n",
    "\n",
    "train_generator = gen.flow(x_train, y_train, batch_size=125) #bigger batch size->more accuracy\n",
    " \n",
    "model.compile(optimizer='adam', loss='categorical_crossentropy',  metrics=['accuracy'])\n",
    "#model.fit_generator(x_train, y_train, epochs=epochs) \n",
    "model.fit_generator(train_generator, steps_per_epoch=125, epochs=30) #200,5"
   ]
  },
  {
   "cell_type": "code",
   "execution_count": 589,
   "metadata": {},
   "outputs": [],
   "source": [
    "train_score = model.evaluate(x_train, y_train, verbose=0)\n"
   ]
  },
  {
   "cell_type": "code",
   "execution_count": 590,
   "metadata": {},
   "outputs": [
    {
     "name": "stdout",
     "output_type": "stream",
     "text": [
      "Train loss: 1.1026792882266034\n",
      "Train accuracy: 58.26047658920288\n"
     ]
    }
   ],
   "source": [
    "print('Train loss:', train_score[0])\n",
    "print('Train accuracy:', 100*train_score[1])"
   ]
  },
  {
   "cell_type": "code",
   "execution_count": 591,
   "metadata": {},
   "outputs": [],
   "source": [
    "test_score = model.evaluate(x_test, y_test, verbose=0)"
   ]
  },
  {
   "cell_type": "code",
   "execution_count": 592,
   "metadata": {},
   "outputs": [
    {
     "name": "stdout",
     "output_type": "stream",
     "text": [
      "Test loss: 1.2568140141178088\n",
      "Test accuracy: 52.18724012374878\n"
     ]
    }
   ],
   "source": [
    "print('Test loss:', test_score[0])\n",
    "print('Test accuracy:', 100*test_score[1])"
   ]
  },
  {
   "cell_type": "code",
   "execution_count": 603,
   "metadata": {},
   "outputs": [
    {
     "name": "stdout",
     "output_type": "stream",
     "text": [
      "Emotion sensed for the face:  surprised\n"
     ]
    }
   ],
   "source": [
    "from keras.preprocessing.image import image\n",
    "\n",
    "#load the image from its source path\n",
    "input_image = image.load_img(\"/Users/avantika/Desktop/surpised.png\", grayscale=True, target_size=(48, 48))\n",
    "\n",
    "#convert image to numpy array and expand its dimensions\n",
    "x = image.img_to_array(input_image)\n",
    "x = np.expand_dims(x, axis = 0)\n",
    " \n",
    "#Normalize image array\n",
    "x /= 255\n",
    "\n",
    "#Use CNN model to preidct emotion for image input\n",
    "custom = model.predict(x)\n",
    "\n",
    "#Printing the output in readable format\n",
    "\n",
    "objects = ('angry', 'disgusted', 'scared', 'happy', 'sad', 'surprised', 'neutral')\n",
    "max_y= np.argmax(custom)\n",
    "print(\"Emotion sensed for the face: \", objects[max_y])\n",
    "\n"
   ]
  },
  {
   "cell_type": "code",
   "execution_count": 604,
   "metadata": {},
   "outputs": [
    {
     "data": {
      "image/png": "[encoded data removed]",
      "text/plain": [
       "<Figure size 432x288 with 1 Axes>"
      ]
     },
     "metadata": {
      "needs_background": "light"
     },
     "output_type": "display_data"
    },
    {
     "data": {
      "image/png": "[encoded data removed]",
      "text/plain": [
       "<Figure size 432x288 with 1 Axes>"
      ]
     },
     "metadata": {
      "needs_background": "light"
     },
     "output_type": "display_data"
    }
   ],
   "source": [
    "#Plotting the emotion profile for detailed results\n",
    "range_y= np.arange(len(objects))\n",
    "fig = plt.figure()\n",
    "ax = fig.add_axes([0,0,1,1])\n",
    "ax.bar(range_y, custom[0], align='center', alpha=0.5)\n",
    "plt.xticks(range_y, objects)\n",
    "plt.ylabel('Probability')\n",
    "plt.title('Emotion Chart')\n",
    "plt.show()\n",
    "\n",
    "#reconverting input to numpy array to display it using imshow()\n",
    "x = np.array(x, 'float32')\n",
    "x = x.reshape([48, 48]);\n",
    " \n",
    "plt.gray()\n",
    "plt.imshow(x)\n",
    "plt.show()"
   ]
  }
 ],
 "metadata": {
  "kernelspec": {
   "display_name": "Python 3",
   "language": "python",
   "name": "python3"
  },
  "language_info": {
   "codemirror_mode": {
    "name": "ipython",
    "version": 3
   },
   "file_extension": ".py",
   "mimetype": "text/x-python",
   "name": "python",
   "nbconvert_exporter": "python",
   "pygments_lexer": "ipython3",
   "version": "3.7.6"
  }
 },
 "nbformat": 4,
 "nbformat_minor": 4
}
